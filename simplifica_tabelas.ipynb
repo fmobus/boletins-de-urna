{
 "cells": [
  {
   "cell_type": "markdown",
   "metadata": {},
   "source": [
    "Análise: distribuição dos modelos de urna por local de votação.\n",
    "--------------------------------------------------------------"
   ]
  },
  {
   "cell_type": "code",
   "execution_count": null,
   "metadata": {},
   "outputs": [],
   "source": [
    "import pandas as pd\n",
    "import numpy as np\n",
    "import matplotlib.pyplot as plt\n",
    "\n",
    "\n",
    "# Extraído do arquivo modelourna_numerointerno.csv disponibilizado pelo TSE\n",
    "MODELOS = {\n",
    "    # ano:  [inicial, final]\n",
    "    \"2009\": [ 999500,  1220500 ],\n",
    "    \"2010\": [ 1220501, 1345500 ],\n",
    "    \"2011\": [ 1368501, 1650000 ],\n",
    "    \"2013\": [ 1650001, 1701000 ],\n",
    "    \"2015\": [ 1750000, 1950000 ],\n",
    "    \"2020\": [ 2000000, 2250000 ],\n",
    "}\n",
    "\n",
    "ESTADOS = [\n",
    "    \"RS\",\"SC\",\"PR\",\n",
    "    \"SP\",\"RJ\",\"MG\",\"ES\",\n",
    "    \"MS\",\"MT\",\"GO\",\"DF\",\n",
    "    \"BA\",\"SE\",\"AL\",\"PE\",\"PB\",\"RN\",\"CE\",\"PI\",\"MA\",\n",
    "    \"TO\",\"PA\",\"RO\",\"AC\",\"AM\",\"AP\",\"RR\",\n",
    "    \"ZZ\"\n",
    "]\n",
    "\n",
    "COLUNAS = [\n",
    "    \"SG_UF\",\"NR_ZONA\",\"NR_SECAO\",\"DS_CARGO_PERGUNTA\",\"NR_LOCAL_VOTACAO\",\"NR_URNA_EFETIVADA\",\"NM_VOTAVEL\",\"QT_APTOS\",\"QT_VOTOS\",\n",
    "]\n",
    "\n",
    "def modelo_by_urna(urna):\n",
    "    for modelo, (inicial, final)  in MODELOS.items():\n",
    "        if inicial <= urna <= final:\n",
    "            return modelo\n",
    "    return None\n"
   ]
  },
  {
   "cell_type": "markdown",
   "metadata": {},
   "source": [
    "Realizamos a leitura dos arquivos estado-por-estado, removendo as linhas que\n",
    "não interessam (i.e. eleição pra Governador), e adicionando uma coluna com\n",
    "o modelo da urna utilizado."
   ]
  },
  {
   "cell_type": "code",
   "execution_count": null,
   "metadata": {},
   "outputs": [],
   "source": [
    "all_dfs = []\n",
    "\n",
    "for estado in ESTADOS:\n",
    "    nome_arquivo = f\"data/original/bweb_2t_{estado}_311020221535.csv\"\n",
    "    arquivo = pd.read_csv(nome_arquivo, sep=\";\", encoding=\"iso-8859-1\")\n",
    "    dfe = pd.DataFrame(arquivo, columns=COLUNAS)\n",
    "    dfe = dfe[dfe.DS_CARGO_PERGUNTA == \"Presidente\"]\n",
    "    dfe = dfe.assign(SY_MODELO_URNA=dfe.NR_URNA_EFETIVADA.apply(modelo_by_urna))\n",
    "    dfe = dfe.assign(SY_COUNT=1)\n",
    "    dfe = dfe.assign(SY_LOCAL_VOTACAO_CHAVE=dfe.SG_UF + \"-\" + dfe.NR_ZONA.astype(str) + \"-\" + dfe.NR_LOCAL_VOTACAO.astype(str))\n",
    "    all_dfs.append(dfe)\n",
    "\n",
    "df = pd.concat(all_dfs)\n",
    "\n",
    "df"
   ]
  },
  {
   "cell_type": "markdown",
   "metadata": {},
   "source": [
    "Agora, pivotamos os dados, usando como chave a urna e cada candidato possível como uma\n",
    "nova coluna. Isso permitirá outras análises de forma simplificada, mas a rigor não era\n",
    "necessário para analisar os modelos de urna por local de votação"
   ]
  },
  {
   "cell_type": "code",
   "execution_count": null,
   "metadata": {},
   "outputs": [],
   "source": [
    "# cs = colapsado por seção\n",
    "\n",
    "cs = df.pivot_table(\n",
    "    columns=\"NM_VOTAVEL\",\n",
    "    values=\"QT_VOTOS\",\n",
    "    aggfunc=np.sum,\n",
    "    fill_value=0,\n",
    "    index=[\n",
    "        df.SG_UF, df.NR_ZONA, df.NR_SECAO, df.SY_MODELO_URNA,\n",
    "        df.NR_LOCAL_VOTACAO, df.NR_URNA_EFETIVADA, df.SY_LOCAL_VOTACAO_CHAVE], \n",
    ").reset_index().rename_axis(None, axis=1)\n",
    "\n",
    "cs.to_csv(\"secao_colapsado.csv\")\n",
    "\n",
    "cs\n"
   ]
  },
  {
   "cell_type": "markdown",
   "metadata": {},
   "source": [
    "Aqui pivotamos novamente os dados, agora usando o _local de votação_ como chave, e o\n",
    "número de urnas de cada modelo naquele local de votação como colunas. O \"local de\n",
    "votação\", na terminologia usada pelo TSE, é cada endereço distinto que pode ser\n",
    "informado para os eleitores quando estes consultam o local de votação. Tipicamente,\n",
    "é um colégio ou algum outro local de grande porte.\n",
    "\n",
    "Também adicionamos uma nova coluna contando o _número de modelos distintos_ que foi\n",
    "utilizado em cada local de votação.\n",
    "\n",
    "Por exemplo, se um dado local de votação tinha 25 urnas, das quais 20 eram modelo\n",
    "2015 e 5 eram modelo 2013, a linha desse local de votação conterá:\n",
    "\n",
    "```\n",
    "UF  ZONA   LOCAL  2009  2010  2011  2013  2015  2020  SY_MODELOS_DISTINTOS\n",
    "UU   12     345     0     0     0    5     20     0            2\n",
    "```\n",
    "\n"
   ]
  },
  {
   "cell_type": "code",
   "execution_count": null,
   "metadata": {},
   "outputs": [],
   "source": [
    "# mulv = modelo urna x local de votação\n",
    "\n",
    "mulv = df.pivot_table(\n",
    "    columns=\"SY_MODELO_URNA\",\n",
    "    values=\"SY_COUNT\",\n",
    "    aggfunc=np.sum,\n",
    "    fill_value=0,\n",
    "    index=[df.SG_UF, df.NR_ZONA, df.NR_LOCAL_VOTACAO, df.SY_LOCAL_VOTACAO_CHAVE]\n",
    ")\n",
    "mulv[\"SY_MODELOS_DISTINTOS\"] = mulv.astype(bool).sum(axis=1)\n",
    "mulv = mulv.reset_index().rename_axis(None, axis=1)\n",
    "mulv.to_csv(\"urnas_por_local_votacao.csv\")\n",
    "\n",
    "mulv"
   ]
  },
  {
   "cell_type": "markdown",
   "metadata": {},
   "source": [
    "Por fim, criamos um conjunto de gráficos de histograma, um para cada modelo de urna,\n",
    "indicando a distribuição do _número de modelos de urnas distintas_ em locais de votação\n",
    "onde pelo menos uma urna do modelo esteve presente.\n",
    "\n",
    "Em outras palavras, se um determinado local de votação tinha apenas urnas do modelo 2010,\n",
    "2011 e 2013, este local de votação estará \"contribuindo\" na barra `3` nos gráficos 2010, 2011\n",
    "e 2013 abaixo."
   ]
  },
  {
   "cell_type": "code",
   "execution_count": null,
   "metadata": {},
   "outputs": [],
   "source": [
    "\n",
    "\n",
    "fig, axs = plt.subplots(2,3)\n",
    "plt.rcParams['axes.titlepad'] = -20\n",
    "plt.rcParams['axes.titley'] = 1\n",
    "plt.subplots_adjust(bottom=0.1, right=2, top=0.9)\n",
    "\n",
    "for index, modelo in enumerate(MODELOS):\n",
    "    ax = axs[index // 3, index % 3]\n",
    "    counts, bins, patches = ax.hist(mulv[mulv[modelo] > 0].SY_MODELOS_DISTINTOS, bins=5, width=0.6)\n",
    "    maximum = max(*counts)\n",
    "    for bin, count in zip(bins, counts):\n",
    "        y = count + maximum * 0.05 if count < maximum * 0.95 else count - maximum * 0.1\n",
    "        ax.text(bin + 0.1, y, str(int(count)), fontsize=6, bbox=dict(boxstyle=\"square,pad=0.2\", fc=\"lightgray\", ec=\"none\"))\n",
    "    ax.grid(False)\n",
    "    ax.set_title(modelo, loc=\"right\")\n"
   ]
  },
  {
   "cell_type": "markdown",
   "metadata": {},
   "source": [
    "Com estes gráficos, podemos observar uma coisa interessante: as urnas modelo 2020\n",
    "_muito raramente_ foram \"misturadas\" com outras urnas em um mesmo local de votação.\n",
    "\n",
    "Isso por si só explica a aparente \"distorção\" onde essa urna estaria com resultados\n",
    "radicalmente diferentes pois ela seria \"infraudável\": a distribuição das urnas\n",
    "_não foi uniforme_. Ora, se a distribuição não é uniforme, não cabe aplicar testes\n",
    "estatísticos cuja conclusão está lastreada na uniformidade."
   ]
  },
  {
   "cell_type": "code",
   "execution_count": null,
   "metadata": {},
   "outputs": [],
   "source": [
    "# lhu2020 = locais heterogeneos com urna 2020\n",
    "lhu2020 = mulv[mulv[\"2020\"] > 0][mulv.SY_MODELOS_DISTINTOS > 1]\n",
    "lhu2020 = lhu2020.SY_LOCAL_VOTACAO_CHAVE.values\n",
    "\n",
    "fig, axs = plt.subplots(2,3, sharex=True, sharey=True)\n",
    "plt.rcParams['axes.titlepad'] = -20\n",
    "plt.rcParams['axes.titley'] = 1\n",
    "plt.subplots_adjust(bottom=0.1, right=2, top=0.9)\n",
    "\n",
    "for index, modelo in enumerate(MODELOS):\n",
    "    ax = axs[index // 3, index % 3]\n",
    "    data = cs.loc[cs.SY_LOCAL_VOTACAO_CHAVE.isin(lhu2020)][cs.SY_MODELO_URNA == modelo]\n",
    "    ax.scatter(data[\"LULA\"], data[\"JAIR BOLSONARO\"])\n",
    "    ax.grid(False)\n",
    "    ax.set_title(modelo, loc=\"right\")\n",
    "\n"
   ]
  }
 ],
 "metadata": {
  "kernelspec": {
   "display_name": "Python 3.8.10 ('python-3.8.10': venv)",
   "language": "python",
   "name": "python3"
  },
  "language_info": {
   "codemirror_mode": {
    "name": "ipython",
    "version": 3
   },
   "file_extension": ".py",
   "mimetype": "text/x-python",
   "name": "python",
   "nbconvert_exporter": "python",
   "pygments_lexer": "ipython3",
   "version": "3.8.10"
  },
  "orig_nbformat": 4,
  "vscode": {
   "interpreter": {
    "hash": "8ca0cda82d668a46ef548d1f32345ddbffb912ae0142f5d63499ff62b288460d"
   }
  }
 },
 "nbformat": 4,
 "nbformat_minor": 2
}
